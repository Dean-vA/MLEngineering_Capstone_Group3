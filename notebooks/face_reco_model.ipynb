{
 "cells": [
  {
   "cell_type": "code",
   "execution_count": 1,
   "metadata": {},
   "outputs": [],
   "source": [
    "import os\n",
    "import torch\n",
    "import random\n",
    "from torchvision import transforms\n",
    "from PIL import Image\n",
    "import pandas as pd"
   ]
  },
  {
   "cell_type": "code",
   "execution_count": 2,
   "metadata": {},
   "outputs": [
    {
     "data": {
      "text/plain": [
       "<torch._C.Generator at 0x7fead4f38150>"
      ]
     },
     "execution_count": 2,
     "metadata": {},
     "output_type": "execute_result"
    }
   ],
   "source": [
    "torch.manual_seed(1337)"
   ]
  },
  {
   "cell_type": "code",
   "execution_count": 3,
   "metadata": {},
   "outputs": [],
   "source": [
    "images_dir = \"../data/images\"\n",
    "output_dir = \"../data/augmented_images\"\n",
    "os.makedirs(output_dir, exist_ok=True)\n",
    "os.makedirs(images_dir, exist_ok=True)"
   ]
  },
  {
   "cell_type": "code",
   "execution_count": 4,
   "metadata": {},
   "outputs": [],
   "source": [
    "transform = transforms.Compose([\n",
    "    transforms.RandomHorizontalFlip(p=random.uniform(0, 1)),\n",
    "    transforms.RandomVerticalFlip(p=random.uniform(0, 1)),\n",
    "    transforms.RandomRotation(degrees=random.uniform(1, 50)),\n",
    "    transforms.ColorJitter(\n",
    "        brightness=random.uniform(0.6, 1.4),\n",
    "        contrast=random.uniform(0.6, 1.4),\n",
    "        saturation=random.uniform(0.6, 1.4),\n",
    "        hue=random.uniform(0.01, 0.1)\n",
    "    ),\n",
    "    transforms.RandomResizedCrop(\n",
    "        size=(256, 256),\n",
    "        scale=(0.8, 1.2),\n",
    "        ratio=(0.8, 1.2)\n",
    "    ),\n",
    "    transforms.GaussianBlur(kernel_size=random.choice([3, 5])),\n",
    "    transforms.ToTensor()\n",
    "])"
   ]
  },
  {
   "cell_type": "code",
   "execution_count": 5,
   "metadata": {},
   "outputs": [
    {
     "data": {
      "text/plain": [
       "Compose(\n",
       "    RandomHorizontalFlip(p=0.658732760284061)\n",
       "    RandomVerticalFlip(p=0.4614267028513931)\n",
       "    RandomRotation(degrees=[-19.65769329741804, 19.65769329741804], interpolation=nearest, expand=False, fill=0)\n",
       "    ColorJitter(brightness=(0.2608931058399616, 1.7391068941600385), contrast=(0.3494842903790305, 1.6505157096209695), saturation=(0.021518257933764384, 1.9784817420662355), hue=(-0.04947055436524255, 0.04947055436524255))\n",
       "    RandomResizedCrop(size=(256, 256), scale=(0.8, 1.2), ratio=(0.8, 1.2), interpolation=bilinear, antialias=warn)\n",
       "    GaussianBlur(kernel_size=(5, 5), sigma=(0.1, 2.0))\n",
       "    ToTensor()\n",
       ")"
      ]
     },
     "execution_count": 5,
     "metadata": {},
     "output_type": "execute_result"
    }
   ],
   "source": [
    "transform"
   ]
  },
  {
   "cell_type": "code",
   "execution_count": 6,
   "metadata": {},
   "outputs": [],
   "source": [
    "num_augmented_images = 30\n",
    "labeled_data = []"
   ]
  },
  {
   "cell_type": "code",
   "execution_count": 7,
   "metadata": {},
   "outputs": [],
   "source": [
    "for filename in os.listdir(images_dir):\n",
    "    if filename == \".gitkeep\":\n",
    "        continue\n",
    "    # Load the image\n",
    "    image_path = os.path.join(images_dir, filename)\n",
    "    image = Image.open(image_path)\n",
    "    image_tensor = transforms.ToTensor()(image)\n",
    "    flattened_tensor = image_tensor.view(-1)\n",
    "    labeled_data.append((flattened_tensor, 1))\n",
    "\n",
    "\n",
    "    for i in range(num_augmented_images):\n",
    "        # Apply the transformations\n",
    "        augmented_image = transform(image)\n",
    "        labeled_data.append((augmented_image.view(-1), 1))\n",
    "        # Save the augmented image\n",
    "        output_filename = f\"{os.path.splitext(filename)[0]}_augmented_{i}.png\"\n",
    "        output_path = os.path.join(output_dir, output_filename)\n",
    "        transforms.ToPILImage()(augmented_image).save(output_path)"
   ]
  },
  {
   "cell_type": "code",
   "execution_count": 8,
   "metadata": {},
   "outputs": [],
   "source": [
    "for item in labeled_data:\n",
    "    assert(item[0].dtype == torch.float32)"
   ]
  },
  {
   "cell_type": "code",
   "execution_count": 9,
   "metadata": {},
   "outputs": [],
   "source": [
    "image_data, labels = zip(*labeled_data)\n",
    "df = pd.DataFrame({\"data\": image_data, \"label\": labels})"
   ]
  },
  {
   "cell_type": "code",
   "execution_count": 10,
   "metadata": {},
   "outputs": [
    {
     "data": {
      "text/plain": [
       "124"
      ]
     },
     "execution_count": 10,
     "metadata": {},
     "output_type": "execute_result"
    }
   ],
   "source": [
    "len(labeled_data)"
   ]
  },
  {
   "cell_type": "code",
   "execution_count": null,
   "metadata": {},
   "outputs": [],
   "source": []
  }
 ],
 "metadata": {
  "kernelspec": {
   "display_name": "blank-to-bard-X2eHKBS1-py3.10",
   "language": "python",
   "name": "python3"
  },
  "language_info": {
   "codemirror_mode": {
    "name": "ipython",
    "version": 3
   },
   "file_extension": ".py",
   "mimetype": "text/x-python",
   "name": "python",
   "nbconvert_exporter": "python",
   "pygments_lexer": "ipython3",
   "version": "3.10.12"
  },
  "orig_nbformat": 4
 },
 "nbformat": 4,
 "nbformat_minor": 2
}
