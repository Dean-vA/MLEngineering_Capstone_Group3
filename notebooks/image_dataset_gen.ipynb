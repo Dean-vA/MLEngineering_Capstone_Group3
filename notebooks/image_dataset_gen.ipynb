{
 "cells": [
  {
   "cell_type": "code",
   "execution_count": 63,
   "metadata": {},
   "outputs": [],
   "source": [
    "import os\n",
    "import glob\n",
    "\n",
    "import torch\n",
    "import torch.nn as nn\n",
    "import torch.optim as optim\n",
    "from torchvision import transforms, models\n",
    "from torch.utils.data import Dataset, DataLoader, random_split\n",
    "from torchvision.datasets import ImageFolder\n",
    "from torchvision.io import read_image, ImageReadMode\n",
    "import matplotlib.pyplot as plt\n",
    "from PIL import Image\n",
    "import pandas as pd\n",
    "import random\n",
    "from tqdm.notebook import tqdm\n",
    "from torchvision.utils import make_grid"
   ]
  },
  {
   "cell_type": "code",
   "execution_count": 2,
   "metadata": {},
   "outputs": [
    {
     "data": {
      "text/plain": [
       "<torch._C.Generator at 0x7fdc9334e430>"
      ]
     },
     "execution_count": 2,
     "metadata": {},
     "output_type": "execute_result"
    }
   ],
   "source": [
    "torch.manual_seed(1337)"
   ]
  },
  {
   "cell_type": "code",
   "execution_count": 3,
   "metadata": {},
   "outputs": [],
   "source": [
    "images_dir = \"../images\"\n",
    "os.makedirs(images_dir + \"/positive\", exist_ok=True)\n",
    "os.makedirs(images_dir + \"/negative\", exist_ok=True)"
   ]
  },
  {
   "cell_type": "code",
   "execution_count": 4,
   "metadata": {},
   "outputs": [],
   "source": [
    "generate_df_transform = transforms.Compose([\n",
    "    transforms.RandomHorizontalFlip(p=random.uniform(0, 1)),\n",
    "    transforms.RandomVerticalFlip(p=random.uniform(0, 1)),\n",
    "    transforms.RandomRotation(degrees=random.uniform(1, 50)),\n",
    "    transforms.ColorJitter(\n",
    "        brightness=random.uniform(0.6, 1.4),\n",
    "        contrast=random.uniform(0.6, 1.4),\n",
    "        saturation=random.uniform(0.6, 1.4),\n",
    "        hue=random.uniform(0.01, 0.1)\n",
    "    ),\n",
    "    transforms.GaussianBlur(kernel_size=random.choice([3, 5])),\n",
    "    transforms.Resize((128, 128)),\n",
    "    transforms.ToTensor()\n",
    "])"
   ]
  },
  {
   "cell_type": "code",
   "execution_count": 5,
   "metadata": {},
   "outputs": [],
   "source": [
    "transform = transforms.Compose([\n",
    "    transforms.Resize((128, 128)),\n",
    "    transforms.RandomHorizontalFlip(p=0.5),\n",
    "    transforms.ToTensor(),\n",
    "])"
   ]
  },
  {
   "cell_type": "code",
   "execution_count": 6,
   "metadata": {},
   "outputs": [],
   "source": [
    "\n",
    "def generate_augmented_data(images_dir, output_dir, num_augmented_images=100, label=None, transform=generate_df_transform):\n",
    "    for filename in os.listdir(images_dir):\n",
    "        if filename == \".gitkeep\":\n",
    "            continue\n",
    "        # Load the image\n",
    "        image_path = os.path.join(images_dir, filename)\n",
    "        image = Image.open(image_path)\n",
    "\n",
    "        for i in range(num_augmented_images):\n",
    "            # Apply the transformations\n",
    "            augmented_image = transform(image)\n",
    "            output_filename = f\"{os.path.splitext(filename)[0]}_augmented_{i}.png\"\n",
    "            output_path = os.path.join(output_dir, output_filename)\n",
    "            transforms.ToPILImage()(augmented_image).save(output_path)"
   ]
  },
  {
   "cell_type": "code",
   "execution_count": 7,
   "metadata": {},
   "outputs": [],
   "source": [
    "generate_augmented_data(\"../train/positive/\", images_dir + \"/positive\")"
   ]
  },
  {
   "cell_type": "code",
   "execution_count": 8,
   "metadata": {},
   "outputs": [],
   "source": [
    "generate_augmented_data(\"../train/negative/\", images_dir + \"/negative\")"
   ]
  },
  {
   "cell_type": "code",
   "execution_count": 9,
   "metadata": {},
   "outputs": [],
   "source": [
    "dataset = ImageFolder(root=\"../images\", transform=transform)"
   ]
  },
  {
   "cell_type": "code",
   "execution_count": 10,
   "metadata": {},
   "outputs": [
    {
     "data": {
      "text/plain": [
       "800"
      ]
     },
     "execution_count": 10,
     "metadata": {},
     "output_type": "execute_result"
    }
   ],
   "source": [
    "len(dataset)"
   ]
  }
 ],
 "metadata": {
  "kernelspec": {
   "display_name": "blank-to-bard-X2eHKBS1-py3.10",
   "language": "python",
   "name": "python3"
  },
  "language_info": {
   "codemirror_mode": {
    "name": "ipython",
    "version": 3
   },
   "file_extension": ".py",
   "mimetype": "text/x-python",
   "name": "python",
   "nbconvert_exporter": "python",
   "pygments_lexer": "ipython3",
   "version": "3.10.12"
  },
  "orig_nbformat": 4
 },
 "nbformat": 4,
 "nbformat_minor": 2
}
